{
 "cells": [
  {
   "cell_type": "markdown",
   "id": "4a5fe4ff-21f0-4376-a720-4172e9a98048",
   "metadata": {},
   "source": [
    "# import libraries"
   ]
  },
  {
   "cell_type": "markdown",
   "id": "bca715da-7ade-4601-b3ab-56d41122c054",
   "metadata": {},
   "source": [
    "1) to start the docker: docker run -it --gpus all -p 8888:8888 -e JUPYTER_TOKEN=jyu -v /home/agschlitzer/Downloads/docker/aibats/:/app tverous/pytorch-notebook \n",
    "2) need to pip install pandas matplotlib seaborn scikit-learn pytorch_tabular wandb\n",
    "3) jupyter nbconvert --execute --to notebook AI-BATs_FTtransformer20241022.ipynb"
   ]
  },
  {
   "cell_type": "code",
   "execution_count": 2,
   "id": "c70482de-5235-4d50-b343-3ccf5f0a6d76",
   "metadata": {},
   "outputs": [],
   "source": [
    "# Import necessary libraries\n",
    "import pandas as pd\n",
    "import matplotlib.pyplot as plt\n",
    "import seaborn as sns\n",
    "from sklearn.model_selection import train_test_split\n",
    "from sklearn.preprocessing import LabelEncoder\n",
    "import torch\n",
    "\n",
    "from pytorch_lightning.loggers import CSVLogger\n",
    "from pytorch_tabular import TabularModel\n",
    "from pytorch_tabular.models import (\n",
    "    CategoryEmbeddingModelConfig,\n",
    "    FTTransformerConfig,\n",
    "    TabNetModelConfig,\n",
    "    GANDALFConfig,\n",
    ")\n",
    "from pytorch_tabular.config import (\n",
    "    DataConfig,\n",
    "    OptimizerConfig,\n",
    "    TrainerConfig,\n",
    "    ExperimentConfig,\n",
    ")\n",
    "from pytorch_tabular.models.common.heads import LinearHeadConfig\n",
    "from pytorch_lightning.strategies import DDPStrategy"
   ]
  },
  {
   "cell_type": "markdown",
   "id": "64945be6-800a-45f8-b769-58fd67f60b2e",
   "metadata": {},
   "source": [
    "# definitions"
   ]
  },
  {
   "cell_type": "markdown",
   "id": "b0edfba0-5833-4673-b502-5fa356a93f60",
   "metadata": {},
   "source": [
    "## load tabular and labels"
   ]
  },
  {
   "cell_type": "code",
   "execution_count": 3,
   "id": "ca5abf50-f417-46af-a490-56cbcd977905",
   "metadata": {},
   "outputs": [],
   "source": [
    "# Load protein data with row and column names and labels from separate file, aligning by sample names\n",
    "def load_data(protein_file, labels_file, label_col_1, label_col_2):\n",
    "    # Load the protein matrix from the first file with index_col=0 to preserve row names (samples)\n",
    "    protein_data = pd.read_csv(protein_file, index_col=0)  # Keeps sample names as the index\n",
    "\n",
    "    # Transpose the data so that it's in sample x protein format\n",
    "    protein_data = protein_data.T\n",
    "\n",
    "    # Load the labels from the second file\n",
    "    labels = pd.read_csv(labels_file, index_col=1)  # Assume sample names/IDs are in the 2nd column (index_col=1)\n",
    "\n",
    "    # Ensure that both dataframes are aligned by sample names\n",
    "    common_samples = protein_data.index.intersection(labels.index)  # Find common sample names\n",
    "    protein_data = protein_data.loc[common_samples]  # Reorder protein data based on common sample names\n",
    "    labels = labels.loc[common_samples]  # Reorder labels based on common sample names\n",
    "\n",
    "    # Extract the two specified columns from the labels file\n",
    "    labels_1 = labels[label_col_1]  # First label column specified by label_col_1\n",
    "    labels_2 = labels[label_col_2]  # Second label column specified by label_col_2\n",
    "    \n",
    "    # Encode both sets of labels\n",
    "    #label_encoder_1 = LabelEncoder()\n",
    "    #labels_1 = label_encoder_1.fit_transform(labels_1)\n",
    "\n",
    "    #label_encoder_2 = LabelEncoder()\n",
    "    #labels_2 = label_encoder_2.fit_transform(labels_2)\n",
    "\n",
    "    # Add the two target columns to the protein data\n",
    "    protein_data[\"target_1\"] = labels_1\n",
    "    protein_data[\"target_2\"] = labels_2\n",
    "\n",
    "    return protein_data\n"
   ]
  },
  {
   "cell_type": "markdown",
   "id": "20bc66f9-9a72-4a86-a1c5-43e2733ba176",
   "metadata": {},
   "source": [
    "## split data based on outcome labels"
   ]
  },
  {
   "cell_type": "code",
   "execution_count": 4,
   "id": "e965557b-ec7b-46f6-9935-00522fb98bc7",
   "metadata": {},
   "outputs": [],
   "source": [
    "# Stratified split based on outcome labels\n",
    "def stratified_split(protein_data):\n",
    "    # Create a combined label for stratification by concatenating the two target columns\n",
    "    protein_data['combined_target'] = protein_data['target_1'].astype(str) + \"_\" + protein_data['target_2'].astype(str)\n",
    "    \n",
    "    # Perform stratified train-test split based on the combined label\n",
    "    train_data, test_data = train_test_split(\n",
    "        protein_data, test_size=0.2, stratify=protein_data['combined_target'], random_state=42\n",
    "    )\n",
    "    \n",
    "    # Drop the combined target column as it's no longer needed\n",
    "    #train_data = train_data.drop(columns=['combined_target'])\n",
    "    #test_data = test_data.drop(columns=['combined_target'])\n",
    "    \n",
    "    return train_data, test_data"
   ]
  },
  {
   "cell_type": "markdown",
   "id": "6ae1d2f6-b892-4a16-82ac-b08b59ceeabe",
   "metadata": {},
   "source": [
    "# load matrix and label data"
   ]
  },
  {
   "cell_type": "code",
   "execution_count": 5,
   "id": "6e5d34e7-7105-4c21-a077-232c7282e8a6",
   "metadata": {},
   "outputs": [],
   "source": [
    "# Load the data from separate protein and labels files\n",
    "protein_file = '30percent_imputed_matrix.csv'  # Replace with your actual file path for the protein data\n",
    "labels_file = 'sample_labels.csv'  # Replace with your actual file path for the labels data\n",
    "target_1_col = \"tissue\"\n",
    "target_2_col = \"diet\"\n",
    "protein_data = load_data(protein_file, labels_file,target_1_col,target_2_col)"
   ]
  },
  {
   "cell_type": "markdown",
   "id": "e9132d53-f8b5-4909-969e-106183c3dd2f",
   "metadata": {},
   "source": [
    "## split data into training and test"
   ]
  },
  {
   "cell_type": "code",
   "execution_count": 6,
   "id": "3d411652-8add-412c-baae-c80c8de861f0",
   "metadata": {},
   "outputs": [],
   "source": [
    "# Perform stratified train-test split\n",
    "train_data, test_data = stratified_split(protein_data)"
   ]
  },
  {
   "cell_type": "markdown",
   "id": "5bcac940-5661-4723-a5b0-d51977b666eb",
   "metadata": {},
   "source": [
    "## train-test data distribution"
   ]
  },
  {
   "cell_type": "code",
   "execution_count": 7,
   "id": "6a94ad96-830e-4a48-9f81-cc1fd3a8b5dd",
   "metadata": {},
   "outputs": [],
   "source": [
    "def plot_frequency_distribution(train_data, test_data, target_column):\n",
    "    \"\"\"\n",
    "    Plots the frequency distribution of a target column for both train and test datasets.\n",
    "    \n",
    "    Args:\n",
    "        train_data (pd.DataFrame): The training dataset.\n",
    "        test_data (pd.DataFrame): The test dataset.\n",
    "        target_column (str): The column name of the target to plot the frequency distribution for.\n",
    "    \"\"\"\n",
    "    # Get value counts for the target column in both train and test datasets\n",
    "    train_target_counts = train_data[target_column].value_counts().reset_index()\n",
    "    test_target_counts = test_data[target_column].value_counts().reset_index()\n",
    "\n",
    "    # Rename columns for clarity\n",
    "    train_target_counts.columns = ['Category', 'Count']\n",
    "    test_target_counts.columns = ['Category', 'Count']\n",
    "\n",
    "    # Add a column to indicate the dataset\n",
    "    train_target_counts['Dataset'] = 'Train'\n",
    "    test_target_counts['Dataset'] = 'Test'\n",
    "\n",
    "    # Combine both DataFrames into one for plotting\n",
    "    combined_df = pd.concat([train_target_counts, test_target_counts])\n",
    "\n",
    "    # Plot the frequency distribution\n",
    "    plt.figure(figsize=(10, 6))\n",
    "    sns.barplot(x='Category', y='Count', hue='Dataset', data=combined_df)\n",
    "\n",
    "    # Add labels and title\n",
    "    plt.xlabel('Category')\n",
    "    plt.ylabel('Count')\n",
    "    plt.title(f'Frequency Distribution of {target_column} in Train and Test Datasets')\n",
    "\n",
    "    # Show the plot\n",
    "    plt.show()"
   ]
  },
  {
   "cell_type": "code",
   "execution_count": 8,
   "id": "5795e076-ca1c-40e3-99c7-f3307058d491",
   "metadata": {},
   "outputs": [
    {
     "data": {
      "image/png": "[encoded data removed]",
      "text/plain": [
       "<Figure size 1000x600 with 1 Axes>"
      ]
     },
     "metadata": {},
     "output_type": "display_data"
    }
   ],
   "source": [
    "plot_frequency_distribution(train_data, test_data, 'target_1')"
   ]
  },
  {
   "cell_type": "code",
   "execution_count": 9,
   "id": "f918c89a-2f61-4132-a695-1cc2d6502bb9",
   "metadata": {},
   "outputs": [
    {
     "data": {
      "image/png": "[encoded data removed]",
      "text/plain": [
       "<Figure size 1000x600 with 1 Axes>"
      ]
     },
     "metadata": {},
     "output_type": "display_data"
    }
   ],
   "source": [
    "plot_frequency_distribution(train_data, test_data, 'target_2')"
   ]
  },
  {
   "cell_type": "code",
   "execution_count": 10,
   "id": "ae49f25e-5891-47f7-9d7c-549c4a8c0497",
   "metadata": {},
   "outputs": [
    {
     "data": {
      "image/png": "[encoded data removed]",
      "text/plain": [
       "<Figure size 1000x600 with 1 Axes>"
      ]
     },
     "metadata": {},
     "output_type": "display_data"
    }
   ],
   "source": [
    "plot_frequency_distribution(train_data, test_data, 'combined_target')"
   ]
  },
  {
   "cell_type": "markdown",
   "id": "8c446d54-8a4b-4a21-8920-7a359fb93b88",
   "metadata": {},
   "source": [
    "# initialize a wandb run"
   ]
  },
  {
   "cell_type": "code",
   "execution_count": 9,
   "id": "fc19bc77-9501-4e28-a190-517763b8d415",
   "metadata": {},
   "outputs": [],
   "source": [
    "# Step 1: Initialize a WandB run\n",
    "#wandb.init(project=\"AI-BATS_FTTransformer_diet\")\n"
   ]
  },
  {
   "cell_type": "markdown",
   "id": "e07a3fa9-4e2c-4b92-b011-41ef8238cc20",
   "metadata": {},
   "source": [
    "# FT-Transformer configuration"
   ]
  },
  {
   "cell_type": "code",
   "execution_count": 10,
   "id": "ab274705-841e-40e7-bd8a-e3cb5e47ba88",
   "metadata": {},
   "outputs": [],
   "source": [
    "\n",
    "data_config = DataConfig(\n",
    "    target=['target_1', 'target_2'],  # Multiple targets for multi-task classification\n",
    "    continuous_cols=train_data.columns[:-3].tolist(),  # All columns except the target ones\n",
    ")\n",
    "data_config = DataConfig(\n",
    "    target=['combined_target'],  # Multiple targets for multi-task classification\n",
    "    continuous_cols=train_data.columns[:-3].tolist(),  # All columns except the target ones\n",
    "    num_workers = 4,\n",
    ")\n",
    "\n",
    "trainer_config = TrainerConfig(\n",
    "    auto_lr_find=True,  # Runs the LRFinder to automatically derive a learning rate\n",
    "    batch_size=32, ## lowered from 1024 to lower CPU usage. powers of 2, between 32 and 256 is typically used. \n",
    "                   ##One way to think about it is that smaller batches means that the number of parameter updates per epoch is greater.\n",
    "    max_epochs=100, ## generally 11 is ideal for most datasets\n",
    "    devices = 1, ## newly_added to lower CPU usage, seems very efficient\n",
    "    early_stopping=\"valid_loss\",  # Monitor valid_loss for early stopping\n",
    "    early_stopping_mode=\"min\",  # Set the mode as min because for val_loss, lower is better\n",
    "    early_stopping_patience=5,  # No. of epochs of degradation training will wait before terminating\n",
    "    checkpoints=\"valid_loss\",  # Save best checkpoint monitoring val_loss\n",
    "    load_best=True,  # After training, load the best checkpoint\n",
    ")\n",
    "optimizer_config = OptimizerConfig()\n",
    "\n",
    "head_config = LinearHeadConfig(\n",
    "    layers=\"\",  # No additional layer in head, just a mapping layer to output_dim\n",
    "    dropout=0.1,\n",
    "    initialization=\"kaiming\",\n",
    ").__dict__  # Convert to dict to pass to the model config (OmegaConf doesn't accept objects)\n",
    "\n",
    "EXP_PROJECT_NAME = \"pytorch-tabular-covertype\"\n",
    "\n",
    "model_config = FTTransformerConfig(\n",
    "    task=\"classification\",\n",
    "    num_attn_blocks=3,\n",
    "    num_heads=4,\n",
    "    learning_rate=1e-3,\n",
    "    head=\"LinearHead\",  # Linear Head\n",
    "    head_config=head_config,  # Linear Head Config\n",
    ")\n",
    "\n",
    "#experiment_config = ExperimentConfig(\n",
    "#    project_name=EXP_PROJECT_NAME,\n",
    "#    run_name=\"FTTransformer\",\n",
    "#    exp_watch=\"gradients\",\n",
    "#    log_target=\"wandb\",\n",
    "#    log_logits=True,\n",
    "#)\n",
    "tabular_model = TabularModel(\n",
    "    data_config=data_config,\n",
    "    model_config=model_config,\n",
    "    optimizer_config=optimizer_config,\n",
    "    trainer_config=trainer_config,\n",
    "    #experiment_config=experiment_config,\n",
    "    verbose=False,\n",
    "    suppress_lightning_logger=False,\n",
    ")"
   ]
  },
  {
   "cell_type": "markdown",
   "id": "72b7e4e0-1769-4d51-af78-e20bea7110de",
   "metadata": {},
   "source": [
    "# train and evaluate"
   ]
  },
  {
   "cell_type": "code",
   "execution_count": 11,
   "id": "d70fd465-08c6-4526-a2f4-b401b1fe8ed2",
   "metadata": {
    "scrolled": true
   },
   "outputs": [
    {
     "name": "stderr",
     "output_type": "stream",
     "text": [
      "Seed set to 42\n",
      "GPU available: False, used: False\n",
      "TPU available: False, using: 0 TPU cores\n",
      "IPU available: False, using: 0 IPUs\n",
      "HPU available: False, using: 0 HPUs\n",
      "2024-11-03 15:39:52.615373: I tensorflow/core/util/port.cc:153] oneDNN custom operations are on. You may see slightly different numerical results due to floating-point round-off errors from different computation orders. To turn them off, set the environment variable `TF_ENABLE_ONEDNN_OPTS=0`.\n",
      "2024-11-03 15:39:52.818329: E external/local_xla/xla/stream_executor/cuda/cuda_fft.cc:485] Unable to register cuFFT factory: Attempting to register factory for plugin cuFFT when one has already been registered\n",
      "2024-11-03 15:39:52.902049: E external/local_xla/xla/stream_executor/cuda/cuda_dnn.cc:8454] Unable to register cuDNN factory: Attempting to register factory for plugin cuDNN when one has already been registered\n",
      "2024-11-03 15:39:52.935341: E external/local_xla/xla/stream_executor/cuda/cuda_blas.cc:1452] Unable to register cuBLAS factory: Attempting to register factory for plugin cuBLAS when one has already been registered\n",
      "2024-11-03 15:39:53.082740: I tensorflow/core/platform/cpu_feature_guard.cc:210] This TensorFlow binary is optimized to use available CPU instructions in performance-critical operations.\n",
      "To enable the following instructions: AVX2 AVX512F AVX512_VNNI FMA, in other operations, rebuild TensorFlow with the appropriate compiler flags.\n",
      "2024-11-03 15:39:54.511771: W tensorflow/compiler/tf2tensorrt/utils/py_utils.cc:38] TF-TRT Warning: Could not find TensorRT\n",
      "/usr/local/lib/python3.10/dist-packages/pytorch_lightning/callbacks/model_checkpoint.py:639: Checkpoint directory /app/saved_models exists and is not empty.\n",
      "/usr/local/lib/python3.10/dist-packages/pytorch_lightning/loops/fit_loop.py:293: The number of training batches (2) is smaller than the logging interval Trainer(log_every_n_steps=50). Set a lower value for log_every_n_steps if you want to see logs for the training epoch.\n"
     ]
    },
    {
     "data": {
      "application/vnd.jupyter.widget-view+json": {
       "model_id": "135db899ff344e75b585c9272395de26",
       "version_major": 2,
       "version_minor": 0
      },
      "text/plain": [
       "Finding best initial lr:   0%|          | 0/100 [00:00<?, ?it/s]"
      ]
     },
     "metadata": {},
     "output_type": "display_data"
    },
    {
     "name": "stderr",
     "output_type": "stream",
     "text": [
      "`Trainer.fit` stopped: `max_steps=100` reached.\n",
      "Learning rate set to 0.012022644346174132\n",
      "Restoring states from the checkpoint path at /app/.lr_find_dabf164a-8d0b-4e32-81a9-aeae5cc8805d.ckpt\n",
      "/usr/local/lib/python3.10/dist-packages/lightning_fabric/utilities/cloud_io.py:56: You are using `torch.load` with `weights_only=False` (the current default value), which uses the default pickle module implicitly. It is possible to construct malicious pickle data which will execute arbitrary code during unpickling (See https://github.com/pytorch/pytorch/blob/main/SECURITY.md#untrusted-models for more details). In a future release, the default value for `weights_only` will be flipped to `True`. This limits the functions that could be executed during unpickling. Arbitrary objects will no longer be allowed to be loaded via this mode unless they are explicitly allowlisted by the user via `torch.serialization.add_safe_globals`. We recommend you start setting `weights_only=True` for any use case where you don't have full control of the loaded file. Please open an issue on GitHub for any issues related to this experimental feature.\n",
      "Restored all states from the checkpoint at /app/.lr_find_dabf164a-8d0b-4e32-81a9-aeae5cc8805d.ckpt\n"
     ]
    },
    {
     "data": {
      "text/html": [
       "<pre style=\"white-space:pre;overflow-x:auto;line-height:normal;font-family:Menlo,'DejaVu Sans Mono',consolas,'Courier New',monospace\">┏━━━┳━━━━━━━━━━━━━━━━━━┳━━━━━━━━━━━━━━━━━━━━━━━┳━━━━━━━━┓\n",
       "┃<span style=\"color: #800080; text-decoration-color: #800080; font-weight: bold\">   </span>┃<span style=\"color: #800080; text-decoration-color: #800080; font-weight: bold\"> Name             </span>┃<span style=\"color: #800080; text-decoration-color: #800080; font-weight: bold\"> Type                  </span>┃<span style=\"color: #800080; text-decoration-color: #800080; font-weight: bold\"> Params </span>┃\n",
       "┡━━━╇━━━━━━━━━━━━━━━━━━╇━━━━━━━━━━━━━━━━━━━━━━━╇━━━━━━━━┩\n",
       "│<span style=\"color: #7f7f7f; text-decoration-color: #7f7f7f\"> 0 </span>│ _backbone        │ FTTransformerBackbone │ 93.9 K │\n",
       "│<span style=\"color: #7f7f7f; text-decoration-color: #7f7f7f\"> 1 </span>│ _embedding_layer │ Embedding2dLayer      │  244 K │\n",
       "│<span style=\"color: #7f7f7f; text-decoration-color: #7f7f7f\"> 2 </span>│ _head            │ LinearHead            │     99 │\n",
       "│<span style=\"color: #7f7f7f; text-decoration-color: #7f7f7f\"> 3 </span>│ loss             │ CrossEntropyLoss      │      0 │\n",
       "└───┴──────────────────┴───────────────────────┴────────┘\n",
       "</pre>\n"
      ],
      "text/plain": [
       "┏━━━┳━━━━━━━━━━━━━━━━━━┳━━━━━━━━━━━━━━━━━━━━━━━┳━━━━━━━━┓\n",
       "┃\u001b[1;35m \u001b[0m\u001b[1;35m \u001b[0m\u001b[1;35m \u001b[0m┃\u001b[1;35m \u001b[0m\u001b[1;35mName            \u001b[0m\u001b[1;35m \u001b[0m┃\u001b[1;35m \u001b[0m\u001b[1;35mType                 \u001b[0m\u001b[1;35m \u001b[0m┃\u001b[1;35m \u001b[0m\u001b[1;35mParams\u001b[0m\u001b[1;35m \u001b[0m┃\n",
       "┡━━━╇━━━━━━━━━━━━━━━━━━╇━━━━━━━━━━━━━━━━━━━━━━━╇━━━━━━━━┩\n",
       "│\u001b[2m \u001b[0m\u001b[2m0\u001b[0m\u001b[2m \u001b[0m│ _backbone        │ FTTransformerBackbone │ 93.9 K │\n",
       "│\u001b[2m \u001b[0m\u001b[2m1\u001b[0m\u001b[2m \u001b[0m│ _embedding_layer │ Embedding2dLayer      │  244 K │\n",
       "│\u001b[2m \u001b[0m\u001b[2m2\u001b[0m\u001b[2m \u001b[0m│ _head            │ LinearHead            │     99 │\n",
       "│\u001b[2m \u001b[0m\u001b[2m3\u001b[0m\u001b[2m \u001b[0m│ loss             │ CrossEntropyLoss      │      0 │\n",
       "└───┴──────────────────┴───────────────────────┴────────┘\n"
      ]
     },
     "metadata": {},
     "output_type": "display_data"
    },
    {
     "data": {
      "text/html": [
       "<pre style=\"white-space:pre;overflow-x:auto;line-height:normal;font-family:Menlo,'DejaVu Sans Mono',consolas,'Courier New',monospace\"><span style=\"font-weight: bold\">Trainable params</span>: 338 K                                                                                            \n",
       "<span style=\"font-weight: bold\">Non-trainable params</span>: 0                                                                                            \n",
       "<span style=\"font-weight: bold\">Total params</span>: 338 K                                                                                                \n",
       "<span style=\"font-weight: bold\">Total estimated model params size (MB)</span>: 1                                                                          \n",
       "</pre>\n"
      ],
      "text/plain": [
       "\u001b[1mTrainable params\u001b[0m: 338 K                                                                                            \n",
       "\u001b[1mNon-trainable params\u001b[0m: 0                                                                                            \n",
       "\u001b[1mTotal params\u001b[0m: 338 K                                                                                                \n",
       "\u001b[1mTotal estimated model params size (MB)\u001b[0m: 1                                                                          \n"
      ]
     },
     "metadata": {},
     "output_type": "display_data"
    },
    {
     "data": {
      "application/vnd.jupyter.widget-view+json": {
       "model_id": "c2b84e9ef2024f0a8407203d4e6406b0",
       "version_major": 2,
       "version_minor": 0
      },
      "text/plain": [
       "Output()"
      ]
     },
     "metadata": {},
     "output_type": "display_data"
    },
    {
     "data": {
      "text/html": [
       "<pre style=\"white-space:pre;overflow-x:auto;line-height:normal;font-family:Menlo,'DejaVu Sans Mono',consolas,'Courier New',monospace\"></pre>\n"
      ],
      "text/plain": []
     },
     "metadata": {},
     "output_type": "display_data"
    },
    {
     "name": "stderr",
     "output_type": "stream",
     "text": [
      "/usr/local/lib/python3.10/dist-packages/pytorch_tabular/utils/python_utils.py:84: FutureWarning: You are using `torch.load` with `weights_only=False` (the current default value), which uses the default pickle module implicitly. It is possible to construct malicious pickle data which will execute arbitrary code during unpickling (See https://github.com/pytorch/pytorch/blob/main/SECURITY.md#untrusted-models for more details). In a future release, the default value for `weights_only` will be flipped to `True`. This limits the functions that could be executed during unpickling. Arbitrary objects will no longer be allowed to be loaded via this mode unless they are explicitly allowlisted by the user via `torch.serialization.add_safe_globals`. We recommend you start setting `weights_only=True` for any use case where you don't have full control of the loaded file. Please open an issue on GitHub for any issues related to this experimental feature.\n",
      "  return torch.load(f, map_location=map_location)\n"
     ]
    },
    {
     "data": {
      "text/plain": [
       "<pytorch_lightning.trainer.trainer.Trainer at 0x7fb6ff91a530>"
      ]
     },
     "execution_count": 11,
     "metadata": {},
     "output_type": "execute_result"
    }
   ],
   "source": [
    "# ----------------- Train the Model -----------------\n",
    "tabular_model.fit(train=train_data, validation=test_data)"
   ]
  },
  {
   "cell_type": "code",
   "execution_count": 12,
   "id": "af75e644-3e8a-4b01-bee5-438e2f8f4797",
   "metadata": {
    "scrolled": true
   },
   "outputs": [
    {
     "data": {
      "text/html": [
       "<div>\n",
       "<style scoped>\n",
       "    .dataframe tbody tr th:only-of-type {\n",
       "        vertical-align: middle;\n",
       "    }\n",
       "\n",
       "    .dataframe tbody tr th {\n",
       "        vertical-align: top;\n",
       "    }\n",
       "\n",
       "    .dataframe thead th {\n",
       "        text-align: right;\n",
       "    }\n",
       "</style>\n",
       "<table border=\"1\" class=\"dataframe\">\n",
       "  <thead>\n",
       "    <tr style=\"text-align: right;\">\n",
       "      <th></th>\n",
       "      <th>BAT_probability</th>\n",
       "      <th>eWAT_probability</th>\n",
       "      <th>iWAT_probability</th>\n",
       "      <th>prediction</th>\n",
       "    </tr>\n",
       "  </thead>\n",
       "  <tbody>\n",
       "    <tr>\n",
       "      <th>Rhabi-Rhabi-VEH2B</th>\n",
       "      <td>0.935557</td>\n",
       "      <td>0.006695</td>\n",
       "      <td>0.057748</td>\n",
       "      <td>BAT</td>\n",
       "    </tr>\n",
       "    <tr>\n",
       "      <th>Oeckl-Oeckl-iBAT.T23.WT_4</th>\n",
       "      <td>0.963649</td>\n",
       "      <td>0.009580</td>\n",
       "      <td>0.026772</td>\n",
       "      <td>BAT</td>\n",
       "    </tr>\n",
       "    <tr>\n",
       "      <th>Kristina-Kristina-LFQ intensity CD_iWAT_5_3253</th>\n",
       "      <td>0.005713</td>\n",
       "      <td>0.007337</td>\n",
       "      <td>0.986950</td>\n",
       "      <td>iWAT</td>\n",
       "    </tr>\n",
       "    <tr>\n",
       "      <th>Oeckl-Oeckl-iWAT.T23.WT_3</th>\n",
       "      <td>0.006551</td>\n",
       "      <td>0.006226</td>\n",
       "      <td>0.987223</td>\n",
       "      <td>iWAT</td>\n",
       "    </tr>\n",
       "    <tr>\n",
       "      <th>Kristina-Kristina-LFQ intensity HFD_iWAT_4_2172</th>\n",
       "      <td>0.075506</td>\n",
       "      <td>0.004813</td>\n",
       "      <td>0.919681</td>\n",
       "      <td>iWAT</td>\n",
       "    </tr>\n",
       "  </tbody>\n",
       "</table>\n",
       "</div>"
      ],
      "text/plain": [
       "                                                 BAT_probability  \\\n",
       "Rhabi-Rhabi-VEH2B                                       0.935557   \n",
       "Oeckl-Oeckl-iBAT.T23.WT_4                               0.963649   \n",
       "Kristina-Kristina-LFQ intensity CD_iWAT_5_3253          0.005713   \n",
       "Oeckl-Oeckl-iWAT.T23.WT_3                               0.006551   \n",
       "Kristina-Kristina-LFQ intensity HFD_iWAT_4_2172         0.075506   \n",
       "\n",
       "                                                 eWAT_probability  \\\n",
       "Rhabi-Rhabi-VEH2B                                        0.006695   \n",
       "Oeckl-Oeckl-iBAT.T23.WT_4                                0.009580   \n",
       "Kristina-Kristina-LFQ intensity CD_iWAT_5_3253           0.007337   \n",
       "Oeckl-Oeckl-iWAT.T23.WT_3                                0.006226   \n",
       "Kristina-Kristina-LFQ intensity HFD_iWAT_4_2172          0.004813   \n",
       "\n",
       "                                                 iWAT_probability prediction  \n",
       "Rhabi-Rhabi-VEH2B                                        0.057748        BAT  \n",
       "Oeckl-Oeckl-iBAT.T23.WT_4                                0.026772        BAT  \n",
       "Kristina-Kristina-LFQ intensity CD_iWAT_5_3253           0.986950       iWAT  \n",
       "Oeckl-Oeckl-iWAT.T23.WT_3                                0.987223       iWAT  \n",
       "Kristina-Kristina-LFQ intensity HFD_iWAT_4_2172          0.919681       iWAT  "
      ]
     },
     "execution_count": 12,
     "metadata": {},
     "output_type": "execute_result"
    }
   ],
   "source": [
    "# PyTorch Tabular workflow\n",
    "pred_df = tabular_model.predict(test_data)\n",
    "pred_df.head()"
   ]
  },
  {
   "cell_type": "code",
   "execution_count": 13,
   "id": "43b564f8-8f53-4d72-b341-7bb79af62506",
   "metadata": {
    "scrolled": true
   },
   "outputs": [
    {
     "data": {
      "application/vnd.jupyter.widget-view+json": {
       "model_id": "4a0ed42f5f6a4a41a618200dc165280f",
       "version_major": 2,
       "version_minor": 0
      },
      "text/plain": [
       "Output()"
      ]
     },
     "metadata": {},
     "output_type": "display_data"
    },
    {
     "data": {
      "text/html": [
       "<pre style=\"white-space:pre;overflow-x:auto;line-height:normal;font-family:Menlo,'DejaVu Sans Mono',consolas,'Courier New',monospace\">┏━━━━━━━━━━━━━━━━━━━━━━━━━━━┳━━━━━━━━━━━━━━━━━━━━━━━━━━━┓\n",
       "┃<span style=\"font-weight: bold\">        Test metric        </span>┃<span style=\"font-weight: bold\">       DataLoader 0        </span>┃\n",
       "┡━━━━━━━━━━━━━━━━━━━━━━━━━━━╇━━━━━━━━━━━━━━━━━━━━━━━━━━━┩\n",
       "│<span style=\"color: #008080; text-decoration-color: #008080\">       test_accuracy       </span>│<span style=\"color: #800080; text-decoration-color: #800080\">    0.8666666746139526     </span>│\n",
       "│<span style=\"color: #008080; text-decoration-color: #008080\">         test_loss         </span>│<span style=\"color: #800080; text-decoration-color: #800080\">    0.3132587671279907     </span>│\n",
       "└───────────────────────────┴───────────────────────────┘\n",
       "</pre>\n"
      ],
      "text/plain": [
       "┏━━━━━━━━━━━━━━━━━━━━━━━━━━━┳━━━━━━━━━━━━━━━━━━━━━━━━━━━┓\n",
       "┃\u001b[1m \u001b[0m\u001b[1m       Test metric       \u001b[0m\u001b[1m \u001b[0m┃\u001b[1m \u001b[0m\u001b[1m      DataLoader 0       \u001b[0m\u001b[1m \u001b[0m┃\n",
       "┡━━━━━━━━━━━━━━━━━━━━━━━━━━━╇━━━━━━━━━━━━━━━━━━━━━━━━━━━┩\n",
       "│\u001b[36m \u001b[0m\u001b[36m      test_accuracy      \u001b[0m\u001b[36m \u001b[0m│\u001b[35m \u001b[0m\u001b[35m   0.8666666746139526    \u001b[0m\u001b[35m \u001b[0m│\n",
       "│\u001b[36m \u001b[0m\u001b[36m        test_loss        \u001b[0m\u001b[36m \u001b[0m│\u001b[35m \u001b[0m\u001b[35m   0.3132587671279907    \u001b[0m\u001b[35m \u001b[0m│\n",
       "└───────────────────────────┴───────────────────────────┘\n"
      ]
     },
     "metadata": {},
     "output_type": "display_data"
    },
    {
     "data": {
      "text/html": [
       "<pre style=\"white-space:pre;overflow-x:auto;line-height:normal;font-family:Menlo,'DejaVu Sans Mono',consolas,'Courier New',monospace\"></pre>\n"
      ],
      "text/plain": []
     },
     "metadata": {},
     "output_type": "display_data"
    },
    {
     "data": {
      "text/plain": [
       "[{'test_loss': 0.3132587671279907, 'test_accuracy': 0.8666666746139526}]"
      ]
     },
     "execution_count": 13,
     "metadata": {},
     "output_type": "execute_result"
    }
   ],
   "source": [
    "# ----------------- Evaluate the Model -----------------\n",
    "result = tabular_model.evaluate(test=test_data)\n",
    "result"
   ]
  },
  {
   "cell_type": "markdown",
   "id": "f7a2046e-dfba-4414-a96d-d8d4912a28e2",
   "metadata": {},
   "source": [
    "# save the model"
   ]
  },
  {
   "cell_type": "code",
   "execution_count": 14,
   "id": "5901bd59-039c-4e59-966c-0dffcd6444fb",
   "metadata": {},
   "outputs": [
    {
     "data": {
      "text/plain": [
       "OrderedDict([('_backbone.add_cls.weight',\n",
       "              tensor([ 0.0696,  0.1444, -0.0811,  0.1039, -0.0820, -0.0086, -0.1087,  0.1149,\n",
       "                       0.1809, -0.1533,  0.0948, -0.0078,  0.0725, -0.0244,  0.0670,  0.0233,\n",
       "                       0.1686,  0.0692, -0.0317,  0.0144, -0.0107, -0.0210, -0.0740,  0.1507,\n",
       "                      -0.0620, -0.0199, -0.0478, -0.0960, -0.0347, -0.1137,  0.1468, -0.0908])),\n",
       "             ('_backbone.transformer_blocks.mha_block_0.mha.to_qkv.weight',\n",
       "              tensor([[ 1.0540e-01, -7.1401e-03, -8.8869e-02,  ...,  6.5104e-02,\n",
       "                       -1.1537e-01,  1.0957e-02],\n",
       "                      [ 8.4263e-04, -3.5594e-02,  1.2360e-01,  ..., -3.2193e-02,\n",
       "                       -1.2931e-02,  1.0434e-01],\n",
       "                      [ 1.1091e-01,  2.2766e-02, -1.1347e-01,  ...,  1.4928e-01,\n",
       "                       -9.7784e-02,  1.2238e-01],\n",
       "                      ...,\n",
       "                      [-2.1898e-01, -1.0682e-01, -5.7874e-02,  ...,  1.9293e-01,\n",
       "                       -2.0400e-01, -1.1081e-01],\n",
       "                      [-2.0808e-01,  8.7267e-02, -8.0902e-02,  ..., -2.2000e-02,\n",
       "                        2.7881e-02, -4.7402e-05],\n",
       "                      [-1.1704e-01, -6.2476e-02, -2.5444e-02,  ..., -7.7141e-02,\n",
       "                       -1.6193e-01,  1.8004e-01]])),\n",
       "             ('_backbone.transformer_blocks.mha_block_0.mha.to_out.weight',\n",
       "              tensor([[-0.1320, -0.0132, -0.0843,  ...,  0.1377, -0.0644, -0.1561],\n",
       "                      [ 0.0269,  0.1285,  0.0211,  ...,  0.0461, -0.0916, -0.0645],\n",
       "                      [-0.1331,  0.0209, -0.0668,  ...,  0.1265, -0.0319,  0.0260],\n",
       "                      ...,\n",
       "                      [ 0.1588, -0.0270, -0.0198,  ...,  0.0222, -0.0939,  0.1076],\n",
       "                      [-0.0282, -0.1030,  0.0206,  ...,  0.1012, -0.0184, -0.0415],\n",
       "                      [ 0.0092,  0.0155, -0.0656,  ..., -0.1439,  0.0197,  0.0009]])),\n",
       "             ('_backbone.transformer_blocks.mha_block_0.mha.to_out.bias',\n",
       "              tensor([-0.0045,  0.0541, -0.0333, -0.0212, -0.0143, -0.0152, -0.0438,  0.0079,\n",
       "                       0.0859, -0.0275, -0.0360, -0.0479, -0.0696, -0.0412, -0.0924,  0.0361,\n",
       "                      -0.0189,  0.0170, -0.0238,  0.0397,  0.0763,  0.0111,  0.0419,  0.1085,\n",
       "                       0.0297,  0.0426,  0.0073, -0.0427, -0.0114,  0.0964, -0.0175, -0.0058])),\n",
       "             ('_backbone.transformer_blocks.mha_block_0.pos_wise_ff.ffn.layer1.weight',\n",
       "              tensor([[ 0.1588, -0.1008, -0.0189,  ...,  0.1211, -0.0444,  0.2251],\n",
       "                      [ 0.1409, -0.1043,  0.0167,  ..., -0.0327, -0.0392, -0.0161],\n",
       "                      [-0.0332,  0.0126,  0.1370,  ..., -0.0856, -0.1344,  0.1733],\n",
       "                      ...,\n",
       "                      [-0.0291, -0.0967,  0.0582,  ..., -0.0315, -0.0028,  0.1108],\n",
       "                      [-0.0352,  0.1685, -0.0784,  ..., -0.0838,  0.0596, -0.1274],\n",
       "                      [ 0.1904, -0.0452, -0.0452,  ...,  0.0546,  0.1226, -0.0303]])),\n",
       "             ('_backbone.transformer_blocks.mha_block_0.pos_wise_ff.ffn.layer2.weight',\n",
       "              tensor([[ 0.1259, -0.1267,  0.0061,  ...,  0.0872,  0.0693,  0.0331],\n",
       "                      [-0.1135,  0.0612,  0.0880,  ..., -0.0248,  0.0020, -0.1089],\n",
       "                      [-0.0659,  0.0412,  0.0944,  ...,  0.0687,  0.0023,  0.0669],\n",
       "                      ...,\n",
       "                      [ 0.0654,  0.0368, -0.1432,  ...,  0.0228,  0.0124, -0.0450],\n",
       "                      [ 0.0050, -0.0952,  0.0012,  ..., -0.0070,  0.0562,  0.0684],\n",
       "                      [ 0.0224, -0.0108,  0.0140,  ...,  0.0947, -0.0877, -0.0710]])),\n",
       "             ('_backbone.transformer_blocks.mha_block_0.pos_wise_ff.ffn.linear_v.weight',\n",
       "              tensor([[ 0.0802,  0.0313, -0.1601,  ..., -0.0643, -0.1636,  0.0122],\n",
       "                      [ 0.1488, -0.1267,  0.0401,  ..., -0.0247, -0.0580, -0.1090],\n",
       "                      [-0.1439, -0.1205,  0.0060,  ...,  0.0315, -0.1485, -0.1552],\n",
       "                      ...,\n",
       "                      [ 0.1884, -0.2075, -0.1864,  ...,  0.0197,  0.0955,  0.1145],\n",
       "                      [ 0.1406,  0.0675,  0.1015,  ...,  0.0252, -0.1094, -0.1149],\n",
       "                      [ 0.1020, -0.1819,  0.0247,  ...,  0.0093,  0.1131,  0.0063]])),\n",
       "             ('_backbone.transformer_blocks.mha_block_0.attn_add_norm.ln.weight',\n",
       "              tensor([0.9458, 0.9936, 1.0422, 0.9704, 1.0741, 0.9764, 1.0277, 1.0275, 1.0437,\n",
       "                      1.0317, 0.9840, 1.1033, 0.9476, 1.0186, 1.1064, 1.0273, 1.0597, 0.9688,\n",
       "                      0.9663, 1.0188, 0.9592, 1.1206, 0.9671, 1.0407, 0.9262, 0.9551, 1.0351,\n",
       "                      1.0018, 0.9684, 0.9527, 0.9867, 0.9516])),\n",
       "             ('_backbone.transformer_blocks.mha_block_0.attn_add_norm.ln.bias',\n",
       "              tensor([-0.0888, -0.0629, -0.0190, -0.0348, -0.0420, -0.0256,  0.0027,  0.0337,\n",
       "                       0.0101, -0.0435, -0.0250, -0.0132, -0.0372,  0.0553,  0.0428,  0.0347,\n",
       "                       0.0417,  0.0476,  0.0744, -0.0504, -0.0041,  0.0118, -0.0466,  0.0084,\n",
       "                       0.0240,  0.0203,  0.0133,  0.0318, -0.0465,  0.0252,  0.0443,  0.0698])),\n",
       "             ('_backbone.transformer_blocks.mha_block_0.ff_add_norm.ln.weight',\n",
       "              tensor([0.9465, 0.9848, 1.0308, 0.9681, 1.0672, 0.9398, 1.0223, 1.0066, 1.0385,\n",
       "                      1.0146, 0.9764, 1.0693, 0.9392, 1.0018, 1.0896, 1.0072, 1.0483, 0.9580,\n",
       "                      0.9635, 1.0152, 0.9343, 1.0653, 0.9512, 1.0353, 0.9210, 0.9481, 0.9975,\n",
       "                      0.9914, 0.9609, 0.9465, 0.9668, 0.9515])),\n",
       "             ('_backbone.transformer_blocks.mha_block_0.ff_add_norm.ln.bias',\n",
       "              tensor([-0.0833, -0.1054, -0.0181, -0.0369, -0.0398, -0.0238,  0.0044,  0.0377,\n",
       "                       0.0109, -0.0419, -0.0227, -0.0130, -0.0340,  0.0581,  0.0418,  0.0364,\n",
       "                       0.0395,  0.0472,  0.0787, -0.0536, -0.0032,  0.0138, -0.0469,  0.0083,\n",
       "                      -0.0018,  0.0238,  0.0149,  0.0306, -0.0430,  0.0246,  0.0389,  0.0734])),\n",
       "             ('_backbone.transformer_blocks.mha_block_1.mha.to_qkv.weight',\n",
       "              tensor([[-0.1845,  0.0657, -0.1525,  ..., -0.0872,  0.0755,  0.0983],\n",
       "                      [ 0.1417, -0.0018,  0.0290,  ..., -0.1805, -0.0373, -0.0956],\n",
       "                      [-0.0852,  0.0236, -0.1634,  ..., -0.1571, -0.0081,  0.1125],\n",
       "                      ...,\n",
       "                      [ 0.1302, -0.1001,  0.0732,  ..., -0.0274,  0.0447, -0.0166],\n",
       "                      [-0.0527,  0.0667,  0.0927,  ...,  0.0177,  0.1040, -0.1010],\n",
       "                      [-0.0163, -0.0217, -0.1117,  ...,  0.1040, -0.1437, -0.1048]])),\n",
       "             ('_backbone.transformer_blocks.mha_block_1.mha.to_out.weight',\n",
       "              tensor([[ 0.0101, -0.0285, -0.0320,  ...,  0.0391,  0.0475, -0.0642],\n",
       "                      [ 0.0275,  0.0642,  0.1870,  ..., -0.0551,  0.0596, -0.0128],\n",
       "                      [ 0.0641,  0.0735,  0.0308,  ...,  0.0215,  0.0295, -0.0528],\n",
       "                      ...,\n",
       "                      [ 0.0314, -0.1322, -0.0044,  ..., -0.0561, -0.0462,  0.0711],\n",
       "                      [ 0.0682, -0.0430, -0.0570,  ...,  0.0719,  0.0182, -0.0485],\n",
       "                      [ 0.0270,  0.0288,  0.0792,  ..., -0.0814,  0.0524, -0.0170]])),\n",
       "             ('_backbone.transformer_blocks.mha_block_1.mha.to_out.bias',\n",
       "              tensor([ 0.0005,  0.0447, -0.0599, -0.0115, -0.0601,  0.0530, -0.0240,  0.0031,\n",
       "                       0.0665, -0.0888, -0.0616, -0.0958,  0.0378,  0.0018,  0.0111,  0.0976,\n",
       "                       0.0252,  0.0228,  0.0210, -0.0370,  0.0285,  0.0977,  0.0388, -0.0369,\n",
       "                      -0.0455,  0.0011, -0.0329, -0.0121, -0.0769, -0.0387,  0.0361, -0.0150])),\n",
       "             ('_backbone.transformer_blocks.mha_block_1.pos_wise_ff.ffn.layer1.weight',\n",
       "              tensor([[ 0.1468,  0.0856,  0.1226,  ...,  0.0169,  0.0348,  0.0171],\n",
       "                      [-0.1655,  0.0806,  0.0738,  ...,  0.1124, -0.0373, -0.0426],\n",
       "                      [ 0.0993,  0.0724,  0.0559,  ..., -0.1087, -0.0890,  0.1358],\n",
       "                      ...,\n",
       "                      [ 0.0196, -0.0777, -0.0235,  ...,  0.0618,  0.1743,  0.0527],\n",
       "                      [-0.0819,  0.0642, -0.0594,  ...,  0.1395,  0.0332, -0.1398],\n",
       "                      [ 0.1600, -0.1632,  0.1187,  ..., -0.0244, -0.0682,  0.0609]])),\n",
       "             ('_backbone.transformer_blocks.mha_block_1.pos_wise_ff.ffn.layer2.weight',\n",
       "              tensor([[ 0.0652, -0.0179, -0.0197,  ...,  0.1199,  0.0055, -0.0092],\n",
       "                      [-0.0706, -0.0144, -0.0157,  ..., -0.0446,  0.0223, -0.0930],\n",
       "                      [ 0.0062, -0.0963, -0.0216,  ...,  0.0260, -0.0414,  0.0635],\n",
       "                      ...,\n",
       "                      [-0.0272,  0.0110,  0.1062,  ..., -0.1184,  0.0530, -0.0409],\n",
       "                      [ 0.0620, -0.0064, -0.0949,  ..., -0.0603, -0.0573,  0.0951],\n",
       "                      [-0.0911,  0.0429,  0.0316,  ..., -0.0823, -0.0918,  0.0028]])),\n",
       "             ('_backbone.transformer_blocks.mha_block_1.pos_wise_ff.ffn.linear_v.weight',\n",
       "              tensor([[ 0.0986,  0.0470,  0.0084,  ...,  0.2140, -0.0782, -0.0777],\n",
       "                      [-0.0603,  0.0554, -0.1210,  ...,  0.0302, -0.0908,  0.1222],\n",
       "                      [-0.1065,  0.1147, -0.1182,  ...,  0.0044, -0.0821,  0.0124],\n",
       "                      ...,\n",
       "                      [ 0.0757, -0.2414, -0.1253,  ..., -0.0167, -0.0483, -0.2064],\n",
       "                      [-0.1510,  0.0954,  0.1273,  ...,  0.1369, -0.0108, -0.1442],\n",
       "                      [-0.1777, -0.0922,  0.0250,  ..., -0.0375,  0.1100, -0.0882]])),\n",
       "             ('_backbone.transformer_blocks.mha_block_1.attn_add_norm.ln.weight',\n",
       "              tensor([0.9579, 1.0004, 1.0387, 0.9734, 1.0721, 0.9599, 1.0372, 1.0202, 1.0428,\n",
       "                      1.0227, 0.9670, 1.0563, 0.9632, 1.0537, 1.1358, 1.0151, 1.0482, 0.9637,\n",
       "                      0.9749, 1.0206, 0.9300, 1.0779, 0.9841, 1.0457, 0.9530, 0.9457, 1.0228,\n",
       "                      1.0090, 0.9698, 0.9541, 1.0234, 0.9537])),\n",
       "             ('_backbone.transformer_blocks.mha_block_1.attn_add_norm.ln.bias',\n",
       "              tensor([-0.0712, -0.0088, -0.0340, -0.0330, -0.0430,  0.0084, -0.0318,  0.0296,\n",
       "                       0.0205, -0.0177, -0.0284, -0.0234, -0.0245,  0.0042,  0.0293,  0.0434,\n",
       "                       0.0363,  0.0352,  0.0601, -0.0204,  0.0043,  0.0086, -0.0291,  0.0287,\n",
       "                       0.0237,  0.0467, -0.0294,  0.0102, -0.0466,  0.0401, -0.0238,  0.0618])),\n",
       "             ('_backbone.transformer_blocks.mha_block_1.ff_add_norm.ln.weight',\n",
       "              tensor([0.9475, 0.9905, 1.0209, 0.9597, 1.0389, 0.9092, 1.0240, 0.9902, 1.0410,\n",
       "                      1.0056, 0.9548, 1.0191, 0.9401, 0.9995, 1.0662, 0.9915, 1.0350, 0.8826,\n",
       "                      0.9612, 0.9731, 0.8590, 1.0106, 0.9289, 1.0404, 0.9220, 0.9245, 0.9661,\n",
       "                      0.9972, 0.9453, 0.9407, 0.9756, 0.9476])),\n",
       "             ('_backbone.transformer_blocks.mha_block_1.ff_add_norm.ln.bias',\n",
       "              tensor([-0.0652, -0.0004, -0.0346, -0.0231, -0.0412,  0.0098, -0.0369,  0.0316,\n",
       "                       0.0248, -0.0224, -0.0249, -0.0230, -0.0174,  0.0058,  0.0276,  0.0432,\n",
       "                       0.0376,  0.0339,  0.0569, -0.0167,  0.0015,  0.0095, -0.0294,  0.0303,\n",
       "                       0.0167,  0.0469, -0.0312,  0.0042, -0.0435,  0.0369, -0.0208,  0.0559])),\n",
       "             ('_backbone.transformer_blocks.mha_block_2.mha.to_qkv.weight',\n",
       "              tensor([[ 0.0015,  0.1808,  0.1100,  ...,  0.0935,  0.1390,  0.1219],\n",
       "                      [-0.0444,  0.0183, -0.0507,  ..., -0.1290, -0.1240, -0.0196],\n",
       "                      [ 0.1450,  0.0135, -0.0726,  ...,  0.0346, -0.0347, -0.0942],\n",
       "                      ...,\n",
       "                      [ 0.2189, -0.1007, -0.1059,  ...,  0.1191, -0.1523,  0.0487],\n",
       "                      [-0.1165, -0.0246,  0.0015,  ...,  0.0440, -0.0514,  0.0839],\n",
       "                      [ 0.0885,  0.0423,  0.1660,  ...,  0.1159, -0.1500, -0.1376]])),\n",
       "             ('_backbone.transformer_blocks.mha_block_2.mha.to_out.weight',\n",
       "              tensor([[-0.0355,  0.0096, -0.0514,  ..., -0.0425,  0.0533, -0.0303],\n",
       "                      [ 0.1494,  0.0068,  0.0651,  ..., -0.0454,  0.0053, -0.0092],\n",
       "                      [-0.0927,  0.0308, -0.0462,  ..., -0.0610, -0.1212, -0.0180],\n",
       "                      ...,\n",
       "                      [-0.0067,  0.0714,  0.0016,  ..., -0.0071,  0.0558, -0.0072],\n",
       "                      [ 0.0915,  0.0173,  0.0925,  ..., -0.0402,  0.0648,  0.0140],\n",
       "                      [ 0.0933,  0.0288, -0.0270,  ...,  0.0054, -0.0217,  0.0074]])),\n",
       "             ('_backbone.transformer_blocks.mha_block_2.mha.to_out.bias',\n",
       "              tensor([-0.0224,  0.0136, -0.0504, -0.0981, -0.1025, -0.0337, -0.0345,  0.1021,\n",
       "                       0.0417, -0.0260,  0.0040, -0.0612, -0.0084,  0.0011, -0.0821,  0.0872,\n",
       "                       0.0757, -0.0171,  0.0360, -0.0008,  0.1170,  0.0562, -0.0656,  0.0942,\n",
       "                      -0.0327,  0.1049, -0.0779,  0.0598, -0.0533,  0.0845,  0.0187,  0.0242])),\n",
       "             ('_backbone.transformer_blocks.mha_block_2.pos_wise_ff.ffn.layer1.weight',\n",
       "              tensor([[-0.0874, -0.0307,  0.1156,  ...,  0.0325, -0.1083,  0.1395],\n",
       "                      [-0.0719, -0.1832, -0.0135,  ...,  0.0672,  0.0487,  0.1613],\n",
       "                      [-0.0764, -0.0276, -0.1414,  ...,  0.1743,  0.0864, -0.1329],\n",
       "                      ...,\n",
       "                      [-0.1917,  0.0560, -0.1159,  ..., -0.1273, -0.1423, -0.1480],\n",
       "                      [-0.1438, -0.0771,  0.0755,  ...,  0.1433,  0.0560,  0.1922],\n",
       "                      [ 0.0979, -0.0030, -0.1976,  ...,  0.1681,  0.0655, -0.0931]])),\n",
       "             ('_backbone.transformer_blocks.mha_block_2.pos_wise_ff.ffn.layer2.weight',\n",
       "              tensor([[ 0.0488,  0.0051,  0.0147,  ...,  0.0437, -0.0914,  0.1237],\n",
       "                      [-0.1285,  0.0301,  0.0520,  ...,  0.0220, -0.0625,  0.0724],\n",
       "                      [ 0.0072, -0.0942, -0.0098,  ...,  0.0644, -0.1322,  0.0092],\n",
       "                      ...,\n",
       "                      [-0.0281, -0.0271,  0.0777,  ..., -0.0333,  0.0938, -0.1408],\n",
       "                      [-0.1519,  0.0393,  0.1175,  ..., -0.1243, -0.0013, -0.0210],\n",
       "                      [ 0.0619,  0.0285,  0.0536,  ...,  0.0822,  0.0816, -0.0999]])),\n",
       "             ('_backbone.transformer_blocks.mha_block_2.pos_wise_ff.ffn.linear_v.weight',\n",
       "              tensor([[-0.0660, -0.0021, -0.1153,  ...,  0.0198,  0.1351, -0.0636],\n",
       "                      [-0.0258,  0.1072, -0.1010,  ...,  0.1141, -0.1879, -0.1017],\n",
       "                      [ 0.0114,  0.1415, -0.1103,  ...,  0.0127,  0.1333, -0.1285],\n",
       "                      ...,\n",
       "                      [ 0.0688, -0.0020,  0.0340,  ...,  0.0577, -0.1096, -0.0601],\n",
       "                      [-0.1484,  0.2230, -0.1522,  ...,  0.1183, -0.0070,  0.1339],\n",
       "                      [ 0.1326, -0.1791, -0.0097,  ..., -0.0796,  0.1234, -0.1968]])),\n",
       "             ('_backbone.transformer_blocks.mha_block_2.attn_add_norm.ln.weight',\n",
       "              tensor([0.9602, 1.0273, 1.0513, 0.9603, 1.0568, 0.9318, 1.0419, 1.0322, 1.0518,\n",
       "                      1.0361, 0.9651, 1.0543, 0.9487, 1.0573, 1.0729, 1.0032, 1.0616, 0.9218,\n",
       "                      0.9681, 0.9920, 0.8749, 1.0643, 0.9812, 1.0516, 0.9433, 0.9387, 1.0126,\n",
       "                      1.0264, 0.9668, 0.9568, 1.0255, 0.9576])),\n",
       "             ('_backbone.transformer_blocks.mha_block_2.attn_add_norm.ln.bias',\n",
       "              tensor([-0.0479,  0.0245, -0.0527, -0.0366, -0.0549, -0.0098, -0.0480,  0.0362,\n",
       "                       0.0433, -0.0428, -0.0424, -0.0467, -0.0493, -0.0564, -0.0178,  0.0484,\n",
       "                       0.0476,  0.0468,  0.0415, -0.0236,  0.0451, -0.0096, -0.0047,  0.0500,\n",
       "                       0.0399,  0.0490, -0.0352, -0.0185, -0.0537,  0.0547,  0.0318,  0.0481])),\n",
       "             ('_backbone.transformer_blocks.mha_block_2.ff_add_norm.ln.weight',\n",
       "              tensor([0.9565, 0.9402, 1.0479, 0.9482, 1.0633, 0.9558, 1.0284, 1.0138, 1.0386,\n",
       "                      1.0448, 0.9535, 1.0537, 0.9486, 1.1176, 1.0490, 0.9950, 1.0728, 0.9449,\n",
       "                      0.9517, 0.9647, 0.9625, 1.0740, 0.9786, 1.0582, 0.9499, 0.9474, 1.0230,\n",
       "                      0.9767, 0.9851, 0.9637, 0.9632, 0.9526])),\n",
       "             ('_backbone.transformer_blocks.mha_block_2.ff_add_norm.ln.bias',\n",
       "              tensor([-0.0541, -0.0557, -0.0495, -0.0518, -0.0511, -0.0417, -0.0435,  0.0314,\n",
       "                       0.0373, -0.0444, -0.0517, -0.0477, -0.0539, -0.0452, -0.0277,  0.0508,\n",
       "                       0.0330,  0.0456,  0.0518, -0.0469,  0.0344, -0.0283, -0.0238,  0.0494,\n",
       "                       0.0453,  0.0519, -0.0339,  0.0274, -0.0520,  0.0522, -0.0556,  0.0536])),\n",
       "             ('_backbone.normalizing_batch_norm.bn.weight',\n",
       "              tensor([1., 1., 1.,  ..., 1., 1., 1.])),\n",
       "             ('_backbone.normalizing_batch_norm.bn.bias',\n",
       "              tensor([0., 0., 0.,  ..., 0., 0., 0.])),\n",
       "             ('_backbone.normalizing_batch_norm.bn.running_mean',\n",
       "              tensor([0., 0., 0.,  ..., 0., 0., 0.])),\n",
       "             ('_backbone.normalizing_batch_norm.bn.running_var',\n",
       "              tensor([1., 1., 1.,  ..., 1., 1., 1.])),\n",
       "             ('_backbone.normalizing_batch_norm.bn.num_batches_tracked',\n",
       "              tensor(0)),\n",
       "             ('_embedding_layer.cat_embedding_bias', tensor([], size=(0, 32))),\n",
       "             ('_embedding_layer.cont_embedding_bias',\n",
       "              tensor([[-1.6785e-01, -4.0674e-04,  1.1418e-01,  ..., -3.3935e-02,\n",
       "                        1.8665e-01,  1.1502e-01],\n",
       "                      [ 1.2705e-01,  1.1220e-01,  1.8252e-02,  ...,  1.1630e-01,\n",
       "                        1.5426e-01, -5.4483e-02],\n",
       "                      [ 1.4738e-01, -1.1876e-01, -5.9259e-03,  ..., -5.7779e-02,\n",
       "                        8.9813e-02, -1.8756e-02],\n",
       "                      ...,\n",
       "                      [-4.3579e-02,  1.4147e-03, -2.4590e-01,  ...,  1.6339e-01,\n",
       "                        1.3086e-01,  1.3876e-01],\n",
       "                      [ 1.3874e-01,  7.9493e-02,  4.5339e-02,  ..., -1.3191e-02,\n",
       "                       -1.1002e-04,  2.1913e-02],\n",
       "                      [-4.9985e-02,  9.3518e-02,  2.8377e-03,  ..., -2.2443e-01,\n",
       "                        1.5606e-01, -1.1482e-01]])),\n",
       "             ('_embedding_layer.cont_embedding_layer.weight',\n",
       "              tensor([[-1.1566,  1.2131,  0.9609,  ...,  0.2233, -2.0480, -0.2976],\n",
       "                      [ 0.0555,  2.5513,  0.3725,  ...,  1.7370, -0.6187, -0.7118],\n",
       "                      [-1.0072, -0.1255, -0.5456,  ..., -1.2422,  1.8451,  0.3498],\n",
       "                      ...,\n",
       "                      [-0.2800,  0.7138, -1.0186,  ...,  0.5035,  1.2367,  0.4612],\n",
       "                      [-0.2983, -1.2381, -0.8307,  ...,  0.0697,  2.5011, -1.1112],\n",
       "                      [-0.6818, -2.4458,  0.2502,  ...,  0.3330, -1.7877,  0.2079]])),\n",
       "             ('_embedding_layer.normalizing_batch_norm.bn.weight',\n",
       "              tensor([0.9379, 0.9857, 1.0334,  ..., 0.8838, 1.0951, 1.1516])),\n",
       "             ('_embedding_layer.normalizing_batch_norm.bn.bias',\n",
       "              tensor([-0.0681,  0.0046,  0.0072,  ...,  0.0092, -0.0175, -0.0153])),\n",
       "             ('_embedding_layer.normalizing_batch_norm.bn.running_mean',\n",
       "              tensor([ 0.0005, -0.0072,  0.0083,  ..., -0.0048, -0.0002,  0.0040])),\n",
       "             ('_embedding_layer.normalizing_batch_norm.bn.running_var',\n",
       "              tensor([1.0375, 1.0324, 1.0019,  ..., 1.0190, 1.0165, 1.0203])),\n",
       "             ('_embedding_layer.normalizing_batch_norm.bn.num_batches_tracked',\n",
       "              tensor(16)),\n",
       "             ('_head.layers.0.weight',\n",
       "              tensor([[ 1.0656e-01, -5.3470e-02,  2.1430e-01, -8.5711e-03,  2.3818e-01,\n",
       "                        7.0301e-02,  1.2971e-01,  2.1631e-02, -1.1678e-03, -4.9118e-02,\n",
       "                        1.8059e-03,  8.9779e-02, -7.8495e-04,  9.6443e-02, -1.5466e-01,\n",
       "                       -4.5150e-02, -1.7170e-01, -1.4343e-01, -1.0759e-02, -8.8380e-02,\n",
       "                       -7.0808e-02,  2.4494e-01,  1.0693e-01, -1.3521e-01, -4.1501e-03,\n",
       "                       -8.6153e-02,  2.2585e-02, -1.0734e-01,  1.6885e-01, -7.9103e-02,\n",
       "                        7.8086e-03, -9.8141e-02],\n",
       "                      [ 8.7763e-02, -2.4112e-02,  1.5421e-01,  1.6465e-01, -1.0715e-02,\n",
       "                       -1.9490e-02,  1.3680e-01, -4.5403e-02, -1.7089e-01, -1.0347e-01,\n",
       "                        1.8267e-01,  1.7670e-01,  1.4041e-03, -1.9173e-01,  2.3050e-01,\n",
       "                       -1.9383e-01,  1.4285e-01, -7.1711e-02, -1.7950e-01,  2.1315e-01,\n",
       "                        4.1758e-02, -1.0971e-01, -5.7167e-03, -3.3335e-03,  1.1958e-01,\n",
       "                       -2.7442e-02, -8.5958e-02,  6.9877e-03, -2.8350e-02,  1.0710e-01,\n",
       "                        1.0018e-01, -1.2424e-01],\n",
       "                      [-6.3140e-02, -1.9334e-02, -7.0872e-02, -7.1724e-02, -1.6131e-01,\n",
       "                        6.5938e-02, -4.9766e-02,  1.1266e-01,  1.6391e-01, -2.2686e-01,\n",
       "                       -1.0568e-01, -2.0848e-01, -1.0514e-01, -1.4793e-01, -1.6054e-01,\n",
       "                        1.3122e-01, -3.7857e-03, -9.1699e-02,  1.1431e-01, -5.0986e-02,\n",
       "                       -7.8441e-02,  1.6909e-02,  1.2004e-01,  8.2039e-02, -1.4670e-04,\n",
       "                       -3.6991e-03, -7.1952e-02, -1.7651e-01, -1.1388e-01,  1.2790e-01,\n",
       "                        9.5322e-02,  1.1126e-01]])),\n",
       "             ('_head.layers.0.bias', tensor([0.1168, 0.0353, 0.1985]))])"
      ]
     },
     "execution_count": 14,
     "metadata": {},
     "output_type": "execute_result"
    }
   ],
   "source": [
    "tabular_model.model.state_dict()"
   ]
  },
  {
   "cell_type": "code",
   "execution_count": 15,
   "id": "c1ff22d6-9b58-4aef-a29b-78cdfa539363",
   "metadata": {
    "scrolled": true
   },
   "outputs": [],
   "source": [
    "model_save_path = \"saved_modelv2\"\n",
    "tabular_model.save_model(model_save_path)"
   ]
  }
 ],
 "metadata": {
  "kernelspec": {
   "display_name": "Python 3 (ipykernel)",
   "language": "python",
   "name": "python3"
  },
  "language_info": {
   "codemirror_mode": {
    "name": "ipython",
    "version": 3
   },
   "file_extension": ".py",
   "mimetype": "text/x-python",
   "name": "python",
   "nbconvert_exporter": "python",
   "pygments_lexer": "ipython3",
   "version": "3.10.12"
  }
 },
 "nbformat": 4,
 "nbformat_minor": 5
}
